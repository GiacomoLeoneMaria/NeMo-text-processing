{
 "cells": [
  {
   "cell_type": "code",
   "execution_count": null,
   "metadata": {},
   "outputs": [],
   "source": [
    "from nemo_text_processing.text_normalization.it.taggers.tokenize_and_classify import ClassifyFst as TNClassifyFst\n",
    "from nemo_text_processing.text_normalization.it.verbalizers.verbalize import VerbalizeFst as TNVerbalizeFst"
   ]
  },
  {
   "cell_type": "code",
   "execution_count": 1,
   "metadata": {},
   "outputs": [],
   "source": [
    "from nemo_text_processing.text_normalization.normalize import Normalizer\n",
    "normalizer = Normalizer(input_case='cased', lang='it')"
   ]
  },
  {
   "cell_type": "code",
   "execution_count": null,
   "metadata": {},
   "outputs": [],
   "source": [
    "written = \"4,2 £ 3,23€ 1 eur\"\n",
    "norm_it = normalizer.normalize(written, punct_post_process=True, verbose=True)\n",
    "print(norm_it)"
   ]
  },
  {
   "cell_type": "code",
   "execution_count": null,
   "metadata": {},
   "outputs": [],
   "source": [
    "written = \"-2,4\"\n",
    "norm_it = normalizer.normalize(written, punct_post_process=True, verbose=True)\n",
    "print(norm_it)"
   ]
  },
  {
   "cell_type": "code",
   "execution_count": null,
   "metadata": {},
   "outputs": [],
   "source": [
    "written = \"https://www.nvidia.it/a_bc/ciao.html\"\n",
    "written_1 = \"www.it.com\"\n",
    "written_2 = \"giacomo.cav2@gmail.com\"\n",
    "norm_it = normalizer.normalize(written_2, punct_post_process=True, verbose=True)\n",
    "print(norm_it)"
   ]
  },
  {
   "cell_type": "code",
   "execution_count": null,
   "metadata": {},
   "outputs": [],
   "source": []
  },
  {
   "cell_type": "code",
   "execution_count": null,
   "metadata": {},
   "outputs": [],
   "source": [
    "written = \"2 s\"\n",
    "norm_it = normalizer.normalize(written, punct_post_process=True, punct_pre_process=True, verbose=True)\n",
    "print(norm_it)"
   ]
  },
  {
   "cell_type": "code",
   "execution_count": null,
   "metadata": {},
   "outputs": [],
   "source": [
    "written = \"il Dr. G ha l'ufficio nel dip. di fisica\"\n",
    "norm_it = normalizer.normalize(written, punct_post_process=True, verbose=True)\n",
    "print(norm_it)"
   ]
  },
  {
   "cell_type": "code",
   "execution_count": null,
   "metadata": {},
   "outputs": [],
   "source": [
    "!cd tests/nemo_text_processing && \\\n",
    "pytest it/test_money.py --cpu"
   ]
  },
  {
   "cell_type": "code",
   "execution_count": null,
   "metadata": {},
   "outputs": [],
   "source": [
    "!cd tests/nemo_text_processing && \\\n",
    "pytest it/test_electronic.py --cpu"
   ]
  },
  {
   "cell_type": "code",
   "execution_count": null,
   "metadata": {},
   "outputs": [],
   "source": [
    "!cd tests/nemo_text_processing && \\\n",
    "pytest it/test_measure.py --cpu"
   ]
  },
  {
   "cell_type": "code",
   "execution_count": null,
   "metadata": {},
   "outputs": [],
   "source": [
    "!cd tests/nemo_text_processing && \\\n",
    "pytest it/test_cardinal.py --cpu"
   ]
  },
  {
   "cell_type": "code",
   "execution_count": null,
   "metadata": {},
   "outputs": [],
   "source": [
    "!cd tests/nemo_text_processing && \\\n",
    "pytest it/test_decimal.py --cpu"
   ]
  },
  {
   "cell_type": "code",
   "execution_count": null,
   "metadata": {},
   "outputs": [],
   "source": [
    "!cd tests/nemo_text_processing && \\\n",
    "pytest it/test_whitelist.py --cpu"
   ]
  },
  {
   "cell_type": "code",
   "execution_count": null,
   "metadata": {},
   "outputs": [],
   "source": [
    "!cd tools/text_processing_deployment && \\\n",
    "bash export_grammars.sh --GRAMMARS=tn_grammars --INPUT_CASE=cased --LANGUAGE=it --MODE=test"
   ]
  },
  {
   "cell_type": "code",
   "execution_count": null,
   "metadata": {},
   "outputs": [],
   "source": [
    "from nemo_text_processing.text_normalization.normalize import Normalizer\n",
    "normalizer_de = Normalizer(input_case='cased', lang='de')"
   ]
  },
  {
   "cell_type": "code",
   "execution_count": null,
   "metadata": {},
   "outputs": [],
   "source": [
    "written_de = \"2,4 m/s\"\n",
    "norm_de = normalizer_de.normalize(written_de, verbose=True)\n",
    "print(norm_de)"
   ]
  },
  {
   "cell_type": "code",
   "execution_count": null,
   "metadata": {},
   "outputs": [],
   "source": [
    "import pynini\n",
    "from nemo_text_processing.text_normalization.de.utils import get_abs_path\n",
    "from nemo_text_processing.text_normalization.en.graph_utils import (\n",
    "    NEMO_ALPHA,\n",
    "    NEMO_DIGIT,\n",
    "    NEMO_NON_BREAKING_SPACE,\n",
    "    NEMO_SIGMA,\n",
    "    GraphFst,\n",
    "    convert_space,\n",
    "    insert_space,\n",
    ")\n",
    "from pynini.examples import plurals\n",
    "from pynini.lib import pynutil\n",
    "\n",
    "unit_singular = pynini.string_file(get_abs_path(\"data/measure/measurements.tsv\"))\n",
    "suppletive = pynini.string_file(get_abs_path(\"data/measure/suppletive.tsv\"))\n",
    "\n",
    "\n",
    "\n",
    "def singular_to_plural():\n",
    "    _o = NEMO_SIGMA + pynini.cross(\"o\", \"\") + pynutil.insert(\"i\")\n",
    "\n",
    "    graph_plural = plurals._priority_union(\n",
    "        suppletive, pynini.union(_o), NEMO_SIGMA\n",
    "    ).optimize()\n",
    "\n",
    "    return graph_plural"
   ]
  },
  {
   "cell_type": "code",
   "execution_count": null,
   "metadata": {},
   "outputs": [],
   "source": [
    "# Load the FST\n",
    "graph_plural = singular_to_plural()\n",
    "\n",
    "# Apply the FST to \"hunde\"\n",
    "input_str = \"kilogrammo\"\n",
    "result = pynini.compose(pynini.accep(input_str), graph_plural).string()\n",
    "\n",
    "print(result) # \"hunden\"\n"
   ]
  },
  {
   "cell_type": "code",
   "execution_count": null,
   "metadata": {},
   "outputs": [],
   "source": []
  }
 ],
 "metadata": {
  "kernelspec": {
   "display_name": "Python 3",
   "language": "python",
   "name": "python3"
  },
  "language_info": {
   "codemirror_mode": {
    "name": "ipython",
    "version": 3
   },
   "file_extension": ".py",
   "mimetype": "text/x-python",
   "name": "python",
   "nbconvert_exporter": "python",
   "pygments_lexer": "ipython3",
   "version": "3.8.10"
  },
  "orig_nbformat": 4,
  "vscode": {
   "interpreter": {
    "hash": "31f2aee4e71d21fbe5cf8b01ff0e069b9275f58929596ceb00d14d90e3e16cd6"
   }
  }
 },
 "nbformat": 4,
 "nbformat_minor": 2
}
